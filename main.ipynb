{
  "cells": [
    {
      "cell_type": "code",
      "source": [
        "%run ./functions.ipynb"
      ],
      "outputs": [],
      "execution_count": null,
      "metadata": {}
    },
    {
      "cell_type": "code",
      "source": [
        "DATA_FILE = 'anonymized_historical_data_03_03_22.csv'\n",
        "MODEL_CONFIG_FILE = 'model_config.csv'\n",
        "\n",
        "[_, data, PRESENT] = load_data(DATA_FILE)\n",
        "\n",
        "if check_for_update(PRESENT):\n",
        "    print('---Data Updated: Evaluating and Forecasting---')\n",
        "    \n",
        "    print('#EVAL#')\n",
        "    model_eval = instance_eval(data, PRESENT, MODEL_CONFIG_FILE)\n",
        "    model_eval.to_csv('./files/model_evals/model_eval_' + re.sub(r'/', r'_', PRESENT) + '.csv', index = False)\n",
        "\n",
        "    print('#FORECAST#')\n",
        "    forecasts = forecast_instance(data, model_eval)\n",
        "    forecasts.to_csv('./files/forecasts/forecast_' + re.sub(r'/', r'_', PRESENT) + '.csv', index = False)\n",
        "\n",
        "else:\n",
        "    print('---No updates to Data---')"
      ],
      "outputs": [],
      "execution_count": null,
      "metadata": {
        "jupyter": {
          "source_hidden": false,
          "outputs_hidden": false
        },
        "nteract": {
          "transient": {
            "deleting": false
          }
        },
        "gather": {
          "logged": 1652285658239
        }
      }
    }
  ],
  "metadata": {
    "kernelspec": {
      "name": "python3-azureml",
      "language": "python",
      "display_name": "Python 3.6 - AzureML"
    },
    "language_info": {
      "name": "python",
      "version": "3.8.5",
      "mimetype": "text/x-python",
      "codemirror_mode": {
        "name": "ipython",
        "version": 3
      },
      "pygments_lexer": "ipython3",
      "nbconvert_exporter": "python",
      "file_extension": ".py"
    },
    "kernel_info": {
      "name": "python3-azureml"
    },
    "microsoft": {
      "host": {
        "AzureML": {
          "notebookHasBeenCompleted": true
        }
      }
    },
    "nteract": {
      "version": "nteract-front-end@1.0.0"
    }
  },
  "nbformat": 4,
  "nbformat_minor": 2
}