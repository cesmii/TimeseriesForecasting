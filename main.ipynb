{
  "cells": [
    {
      "cell_type": "code",
      "source": [
        "%run ./functions.ipynb"
      ],
      "outputs": [],
      "execution_count": 1,
      "metadata": {}
    },
    {
      "cell_type": "code",
      "source": [
        "DATA_FILE = 'historical_inventory_transactions.csv'\n",
        "MODEL_CONFIG_FILE = 'model_config.csv'\n",
        "\n",
        "[_, data, PRESENT] = load_data(DATA_FILE)\n",
        "\n",
        "if check_for_update(PRESENT):\n",
        "    print('---Data Updated: Evaluating and Forecasting---')\n",
        "    \n",
        "    print('#EVAL#')\n",
        "    model_eval = instance_eval(data, PRESENT, MODEL_CONFIG_FILE)\n",
        "    model_eval.to_csv('./files/model_evals/model_eval_' + re.sub(r'/', r'_', PRESENT) + '.csv', index = False)\n",
        "\n",
        "    print('#FORECAST#')\n",
        "    forecasts = forecast_instance(data, model_eval)\n",
        "    forecasts.to_csv('./files/forecasts/forecast_' + re.sub(r'/', r'_', PRESENT) + '.csv', index = False)\n",
        "\n",
        "else:\n",
        "    print('---No updates to Data---')"
      ],
      "outputs": [
        {
          "output_type": "stream",
          "name": "stderr",
          "text": "INFO:azureml.core.workspace:Found the config file in: /config.json\nINFO:azureml.data.datastore_client:<azureml.core.authentication.InteractiveLoginAuthentication object at 0x7fd7eb0c3b70>\nINFO:numexpr.utils:NumExpr defaulting to 4 threads.\n"
        }
      ],
      "execution_count": 2,
      "metadata": {
        "jupyter": {
          "source_hidden": false,
          "outputs_hidden": false
        },
        "nteract": {
          "transient": {
            "deleting": false
          }
        },
        "gather": {
          "logged": 1648144973177
        }
      }
    }
  ],
  "metadata": {
    "kernelspec": {
      "name": "python3-azureml",
      "language": "python",
      "display_name": "Python 3.6 - AzureML"
    },
    "language_info": {
      "name": "python",
      "version": "3.6.9",
      "mimetype": "text/x-python",
      "codemirror_mode": {
        "name": "ipython",
        "version": 3
      },
      "pygments_lexer": "ipython3",
      "nbconvert_exporter": "python",
      "file_extension": ".py"
    },
    "kernel_info": {
      "name": "python3-azureml"
    },
    "microsoft": {
      "host": {
        "AzureML": {
          "notebookHasBeenCompleted": true
        }
      }
    },
    "nteract": {
      "version": "nteract-front-end@1.0.0"
    }
  },
  "nbformat": 4,
  "nbformat_minor": 2
}